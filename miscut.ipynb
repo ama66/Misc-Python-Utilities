#from collections import defaultdict
import collections

words = "apple banana apple strawberry banana lemon banana lemon."

d = defaultdict(int)

for word in words.split():
    d[word] += 1
    
