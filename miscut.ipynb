#from collections import defaultdict
import collections
