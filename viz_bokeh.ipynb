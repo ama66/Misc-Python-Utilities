{
 "cells": [
  {
   "cell_type": "code",
   "execution_count": 1,
   "metadata": {},
   "outputs": [],
   "source": [
    "from bokeh.plotting import figure, output_file, show\n"
   ]
  },
  {
   "cell_type": "code",
   "execution_count": 2,
   "metadata": {},
   "outputs": [],
   "source": [
    "output_file('my_first_graph.html')"
   ]
  },
  {
   "cell_type": "code",
   "execution_count": 3,
   "metadata": {},
   "outputs": [],
   "source": [
    "x = [1, 3, 5, 7]\n",
    "y = [2, 4, 6, 8]"
   ]
  },
  {
   "cell_type": "code",
   "execution_count": 6,
   "metadata": {
    "scrolled": true
   },
   "outputs": [
    {
     "name": "stderr",
     "output_type": "stream",
     "text": [
      "BokehDeprecationWarning: 'legend' keyword is deprecated, use explicit 'legend_label', 'legend_field', or 'legend_group' keywords instead\n",
      "BokehDeprecationWarning: 'legend' keyword is deprecated, use explicit 'legend_label', 'legend_field', or 'legend_group' keywords instead\n",
      "BokehDeprecationWarning: 'legend' keyword is deprecated, use explicit 'legend_label', 'legend_field', or 'legend_group' keywords instead\n"
     ]
    }
   ],
   "source": [
    "p = figure()\n",
    "\n",
    "p.circle(x, y, size=10, color='red', legend='circle')\n",
    "p.line(x, y, color='blue', legend='line')\n",
    "p.triangle(y, x, color='gold', size=10, legend='triangle')\n",
    "p.legend.click_policy='hide'\n",
    "show(p)"
   ]
  },
  {
   "cell_type": "code",
   "execution_count": 8,
   "metadata": {},
   "outputs": [
    {
     "data": {
      "text/plain": [
       "'C:\\\\Users\\\\212590433\\\\Vitalyx'"
      ]
     },
     "execution_count": 8,
     "metadata": {},
     "output_type": "execute_result"
    }
   ],
   "source": [
    "pwd"
   ]
  },
  {
   "cell_type": "code",
   "execution_count": 10,
   "metadata": {},
   "outputs": [
    {
     "name": "stdout",
     "output_type": "stream",
     "text": [
      "           MSNDATE      THEATER COUNTRY_FLYING_MISSION    NAF   UNIT_ID  \\\n",
      "0       03/30/1941          ETO          GREAT BRITAIN    RAF   84 SQDN   \n",
      "1       11/24/1940          ETO          GREAT BRITAIN    RAF  211 SQDN   \n",
      "2       12/04/1940          ETO          GREAT BRITAIN    RAF  211 SQDN   \n",
      "3       12/31/1940          ETO          GREAT BRITAIN    RAF  211 SQDN   \n",
      "4       01/06/1941          ETO          GREAT BRITAIN    RAF  211 SQDN   \n",
      "...            ...          ...                    ...    ...       ...   \n",
      "178276  08/01/1945          PTO                    USA  20 AF     73 BW   \n",
      "178277  07/22/1942          MTO          GREAT BRITAIN    RAF       NaN   \n",
      "178278  08/17/1940  EAST AFRICA          GREAT BRITAIN    RAF   47 SQDN   \n",
      "178279  08/06/1945          PTO                    USA  20 AF    509 CG   \n",
      "178280  08/09/1945          PTO                    USA  20 AF    509 CG   \n",
      "\n",
      "       AIRCRAFT_NAME  AC_ATTACKING TAKEOFF_BASE TAKEOFF_COUNTRY  \\\n",
      "0           BLENHEIM          10.0          NaN             NaN   \n",
      "1           BLENHEIM           9.0          NaN             NaN   \n",
      "2           BLENHEIM           9.0          NaN             NaN   \n",
      "3           BLENHEIM           9.0          NaN             NaN   \n",
      "4           BLENHEIM           9.0          NaN             NaN   \n",
      "...              ...           ...          ...             ...   \n",
      "178276           B29          99.0          NaN             NaN   \n",
      "178277      BLENHEIM           NaN          NaN             NaN   \n",
      "178278     WELLESLEY           6.0      ERKOWIT           SUDAN   \n",
      "178279           B29           1.0          NaN             NaN   \n",
      "178280           B29           1.0          NaN             NaN   \n",
      "\n",
      "        TAKEOFF_LATITUDE  TAKEOFF_LONGITUDE TGT_COUNTRY  TGT_LOCATION  \\\n",
      "0                    NaN                NaN     ALBANIA       ELBASAN   \n",
      "1                    NaN                NaN     ALBANIA       DURAZZO   \n",
      "2                    NaN                NaN     ALBANIA      TEPELENE   \n",
      "3                    NaN                NaN     ALBANIA        VALONA   \n",
      "4                    NaN                NaN     ALBANIA        VALONA   \n",
      "...                  ...                ...         ...           ...   \n",
      "178276               NaN                NaN       JAPAN        TOYAMA   \n",
      "178277               NaN                NaN       EGYPT  MERSA MATRUH   \n",
      "178278             18.75               37.0       SUDAN       KASSALA   \n",
      "178279               NaN                NaN       JAPAN     HIROSHIMA   \n",
      "178280               NaN                NaN       JAPAN      NAGASAKI   \n",
      "\n",
      "        TGT_LATITUDE  TGT_LONGITUDE  TONS_HE  TONS_IC  TONS_FRAG  TOTAL_TONS  \n",
      "0          41.100000      20.070000      0.0      0.0        0.0         0.0  \n",
      "1          41.320000      19.450000      0.0      0.0        0.0         0.0  \n",
      "2          40.300000      20.020000      0.0      0.0        0.0         0.0  \n",
      "3          40.470000      19.490000      0.0      0.0        0.0         0.0  \n",
      "4          40.470000      19.490000      0.0      0.0        0.0         0.0  \n",
      "...              ...            ...      ...      ...        ...         ...  \n",
      "178276     36.700000     137.216667      0.0    999.0        0.0       999.0  \n",
      "178277     31.330000      27.200000      0.0      0.0        0.0      1300.0  \n",
      "178278     15.450000      36.400000   4750.0      0.0        0.0      4750.0  \n",
      "178279     34.400000     132.466667  15000.0      0.0        0.0     15000.0  \n",
      "178280     32.733333     129.866667  20000.0      0.0        0.0     20000.0  \n",
      "\n",
      "[178281 rows x 19 columns]\n"
     ]
    },
    {
     "data": {
      "text/plain": [
       "['MSNDATE',\n",
       " 'THEATER',\n",
       " 'COUNTRY_FLYING_MISSION',\n",
       " 'NAF',\n",
       " 'UNIT_ID',\n",
       " 'AIRCRAFT_NAME',\n",
       " 'AC_ATTACKING',\n",
       " 'TAKEOFF_BASE',\n",
       " 'TAKEOFF_COUNTRY',\n",
       " 'TAKEOFF_LATITUDE',\n",
       " 'TAKEOFF_LONGITUDE',\n",
       " 'TGT_COUNTRY',\n",
       " 'TGT_LOCATION',\n",
       " 'TGT_LATITUDE',\n",
       " 'TGT_LONGITUDE',\n",
       " 'TONS_HE',\n",
       " 'TONS_IC',\n",
       " 'TONS_FRAG',\n",
       " 'TOTAL_TONS']"
      ]
     },
     "execution_count": 10,
     "metadata": {},
     "output_type": "execute_result"
    }
   ],
   "source": [
    "import pandas as pd\n",
    "\n",
    "df = pd.read_csv('thor_wwii.csv')\n",
    "print(df)\n",
    "\n",
    "df.columns.tolist()"
   ]
  },
  {
   "cell_type": "code",
   "execution_count": 11,
   "metadata": {},
   "outputs": [],
   "source": [
    "#column_datasource.py\n",
    "import pandas as pd\n",
    "from bokeh.plotting import figure, output_file, show\n",
    "from bokeh.models import ColumnDataSource\n",
    "from bokeh.models.tools import HoverTool"
   ]
  },
  {
   "cell_type": "code",
   "execution_count": 12,
   "metadata": {},
   "outputs": [],
   "source": [
    "output_file('columndatasource_example.html')\n",
    "\n",
    "df = pd.read_csv('thor_wwii.csv')"
   ]
  },
  {
   "cell_type": "code",
   "execution_count": 26,
   "metadata": {},
   "outputs": [],
   "source": [
    "sample = df.sample(50)\n",
    "source = ColumnDataSource(sample)"
   ]
  },
  {
   "cell_type": "code",
   "execution_count": 28,
   "metadata": {},
   "outputs": [],
   "source": [
    "p = figure()\n",
    "p.circle(x='TOTAL_TONS', y='AC_ATTACKING',\n",
    "         source=source,\n",
    "         size=10, color='green')\n",
    "\n",
    "\n",
    "p.title.text = 'Attacking Aircraft and Munitions Dropped'\n",
    "p.xaxis.axis_label = 'Tons of Munitions Dropped'\n",
    "p.yaxis.axis_label = 'Number of Attacking Aircraft'\n",
    "\n"
   ]
  },
  {
   "cell_type": "code",
   "execution_count": 30,
   "metadata": {},
   "outputs": [],
   "source": [
    "hover = HoverTool()\n",
    "hover.tooltips=[\n",
    "    ('Attack Date', '@MSNDATE'),\n",
    "    ('Attacking Aircraft', '@AC_ATTACKING'),\n",
    "    ('Tons of Munitions', '@TOTAL_TONS'),\n",
    "    ('Type of Aircraft', '@AIRCRAFT_NAME')\n",
    "]\n",
    "\n",
    "p.add_tools(hover)\n",
    "\n",
    "show(p)"
   ]
  },
  {
   "cell_type": "code",
   "execution_count": 32,
   "metadata": {},
   "outputs": [
    {
     "name": "stderr",
     "output_type": "stream",
     "text": [
      "<ipython-input-32-132136117ccf>:17: FutureWarning: Indexing with multiple keys (implicitly converted to a tuple of keys) will be deprecated, use a list instead.\n",
      "  grouped = df.groupby(pd.Grouper(key='MSNDATE', freq='M'))['TOTAL_TONS', 'TONS_IC', 'TONS_FRAG'].sum()\n",
      "BokehDeprecationWarning: 'legend' keyword is deprecated, use explicit 'legend_label', 'legend_field', or 'legend_group' keywords instead\n",
      "BokehDeprecationWarning: 'legend' keyword is deprecated, use explicit 'legend_label', 'legend_field', or 'legend_group' keywords instead\n",
      "BokehDeprecationWarning: 'legend' keyword is deprecated, use explicit 'legend_label', 'legend_field', or 'legend_group' keywords instead\n"
     ]
    }
   ],
   "source": [
    "#my_first_timeseries.py\n",
    "import pandas as pd\n",
    "from bokeh.plotting import figure, output_file, show\n",
    "from bokeh.models import ColumnDataSource\n",
    "from bokeh.palettes import Spectral3\n",
    "output_file('simple_timeseries_plot.html')\n",
    "\n",
    "df = pd.read_csv('thor_wwii.csv')\n",
    "\n",
    "#make sure MSNDATE is a datetime format\n",
    "df['MSNDATE'] = pd.to_datetime(df['MSNDATE'], format='%m/%d/%Y')\n",
    "\n",
    "# grouped = df.groupby('MSNDATE')['TOTAL_TONS', 'TONS_IC', 'TONS_FRAG'].sum()\n",
    "# grouped = grouped/1000\n",
    "\n",
    "# Resampling\n",
    "grouped = df.groupby(pd.Grouper(key='MSNDATE', freq='M'))['TOTAL_TONS', 'TONS_IC', 'TONS_FRAG'].sum()\n",
    "\n",
    "\n",
    "source = ColumnDataSource(grouped)\n",
    "\n",
    "p = figure(x_axis_type='datetime')\n",
    "\n",
    "p.line(x='MSNDATE', y='TOTAL_TONS', line_width=2, source=source, legend='All Munitions')\n",
    "p.line(x='MSNDATE', y='TONS_FRAG', line_width=2, source=source, color=Spectral3[1], legend='Fragmentation')\n",
    "p.line(x='MSNDATE', y='TONS_IC', line_width=2, source=source, color=Spectral3[2], legend='Incendiary')\n",
    "\n",
    "p.yaxis.axis_label = 'Kilotons of Munitions Dropped'\n",
    "\n"
   ]
  },
  {
   "cell_type": "code",
   "execution_count": 38,
   "metadata": {},
   "outputs": [],
   "source": [
    "from bokeh.models import BoxAnnotation\n",
    "\n",
    "box_left = pd.to_datetime('6-6-1944')\n",
    "box_right = pd.to_datetime('16-12-1944')\n",
    "\n",
    "box = BoxAnnotation(left=box_left, right=box_right,\n",
    "                    line_width=1, line_color='black', line_dash='dashed',\n",
    "                    fill_alpha=0.2, fill_color='blue')\n",
    "\n",
    "p.add_layout(box)\n",
    "\n",
    "show(p)"
   ]
  },
  {
   "cell_type": "code",
   "execution_count": 67,
   "metadata": {},
   "outputs": [
    {
     "name": "stderr",
     "output_type": "stream",
     "text": [
      "<ipython-input-67-dd180f4ecb1e>:23: FutureWarning: The pandas.np module is deprecated and will be removed from pandas in a future version. Import numpy directly instead\n",
      "  df[y_column1] = pd.np.linspace(100, 1000, 100)\n",
      "<ipython-input-67-dd180f4ecb1e>:24: FutureWarning: The pandas.np module is deprecated and will be removed from pandas in a future version. Import numpy directly instead\n",
      "  df[y_column2] = pd.np.linspace(1, 2, 100)\n",
      "BokehDeprecationWarning: 'legend' keyword is deprecated, use explicit 'legend_label', 'legend_field', or 'legend_group' keywords instead\n",
      "BokehDeprecationWarning: 'legend' keyword is deprecated, use explicit 'legend_label', 'legend_field', or 'legend_group' keywords instead\n"
     ]
    }
   ],
   "source": [
    "from bokeh.plotting import figure, output_file, show\n",
    "from bokeh.models import LinearAxis, Range1d ,ColumnDataSource, Label, LabelSet\n",
    "\n",
    "\n",
    "import time\n",
    "from datetime import datetime as dt\n",
    "\n",
    "from bokeh.models import Span\n",
    "from bokeh.plotting import figure, output_file, show\n",
    "from bokeh.sampledata.daylight import daylight_warsaw_2013\n",
    "\n",
    "\n",
    "import pandas as pd\n",
    "import math \n",
    "\n",
    "# pandas dataframe\n",
    "x_column = \"x\"\n",
    "y_column1 = \"y1\"\n",
    "y_column2 = \"y2\"\n",
    "\n",
    "df = pd.DataFrame()\n",
    "df[x_column] = range(0, 100)\n",
    "df[y_column1] = pd.np.linspace(100, 1000, 100)\n",
    "df[y_column2] = pd.np.linspace(1, 2, 100)\n",
    "\n",
    "# Bokeh plot\n",
    "output_file(\"twin_axis.html\")\n",
    "\n",
    "y_overlimit = 0.05 # show y axis below and above y min and max value\n",
    "\n",
    "p = figure()\n",
    "\n",
    "# FIRST AXIS\n",
    "p.line(df[x_column], df[y_column1], legend=y_column1, line_width=1, color=\"blue\")\n",
    "p.y_range = Range1d(\n",
    "    df[y_column1].min() * (1 - y_overlimit), df[y_column1].max() * (1 + y_overlimit)\n",
    ")\n",
    "\n",
    "# SECOND AXIS\n",
    "y_column2_range = y_column2 + \"_range\"\n",
    "p.extra_y_ranges = {\n",
    "     y_column2_range: Range1d(\n",
    "        start=df[y_column2].min() * (1 - y_overlimit),\n",
    "        end=df[y_column2].max() * (1 + y_overlimit),\n",
    "    )\n",
    "}\n",
    "p.add_layout(LinearAxis(y_range_name=y_column2_range , axis_label=\"Mt CO2e\"), \"right\")\n",
    "\n",
    "p.line(\n",
    "    df[x_column],\n",
    "    df[y_column2],\n",
    "    legend=y_column2,\n",
    "    line_width=1,\n",
    "    y_range_name=y_column2_range,\n",
    "    color=\"green\",\n",
    "    \n",
    ")\n",
    "\n",
    "\n",
    "start_date = 20\n",
    "daylight_savings_start = Span(location=start_date,\n",
    "                              dimension='height', line_color='green',\n",
    "                              line_dash='dashed', line_width=3)\n",
    "p.add_layout(daylight_savings_start)\n",
    "\n",
    "end_date = 40\n",
    "daylight_savings_end = Span(location=end_date,\n",
    "                            dimension='height', line_color='red',\n",
    "                            line_dash='dashed', line_width=3)\n",
    "p.add_layout(daylight_savings_end)\n",
    "\n",
    "\n",
    "show(p)\n",
    "    "
   ]
  },
  {
   "cell_type": "code",
   "execution_count": 54,
   "metadata": {},
   "outputs": [],
   "source": [
    "# low_box = BoxAnnotation(top=80, fill_alpha=0.1, fill_color='red')\n",
    "# mid_box = BoxAnnotation(bottom=80, top=180, fill_alpha=0.1, fill_color='green')\n",
    "# high_box = BoxAnnotation(bottom=180, fill_alpha=0.1, fill_color='red')\n",
    "\n",
    "# p.add_layout(low_box)\n",
    "# p.add_layout(mid_box)\n",
    "# p.add_layout(high_box)"
   ]
  },
  {
   "cell_type": "code",
   "execution_count": 80,
   "metadata": {},
   "outputs": [],
   "source": [
    "import random\n",
    "import pandas as pd\n",
    "from bokeh.io import show, output_notebook\n",
    "from bokeh.models import ColumnDataSource, ColorBar, HoverTool, Legend\n",
    "from bokeh.plotting import figure\n",
    "from bokeh.palettes import brewer\n",
    "from bokeh.layouts import row, column, gridplot\n",
    "from bokeh.models import CustomJS, Slider, Select, Plot, Button, LinearAxis, Range1d, DatetimeTickFormatter\n",
    "from bokeh.models.glyphs import Line, MultiLine\n",
    "\n",
    "df = pd.read_excel('https://www.ecdc.europa.eu/sites/default/files/documents/COVID-19-geographic-disbtribution-worldwide.xlsx',engine='openpyxl')\n",
    "df['dateRep'] = pd.to_datetime(df.dateRep, infer_datetime_format=True)\n",
    "df = df.sort_values(['countriesAndTerritories','dateRep'])\n",
    "#find cumulative cases in each country by using groupby-apply\n",
    "df['cumcases'] = df.groupby(['countriesAndTerritories'])['cases'].apply(lambda x: x.cumsum())\n",
    "#pivot the table\n",
    "data = pd.pivot_table(df,index='dateRep',columns='countriesAndTerritories',values='cumcases').reset_index()\n",
    "summary = df.groupby('countriesAndTerritories').agg({'deaths':np.sum,'cases':np.sum}).reset_index()"
   ]
  },
  {
   "cell_type": "code",
   "execution_count": 81,
   "metadata": {},
   "outputs": [],
   "source": [
    "\n",
    "source = ColumnDataSource(data)\n",
    "# create CDS for filtered sources\n",
    "filt_data1 = data[['dateRep','China']].rename(columns={'China':'cases'})\n",
    "src2 = ColumnDataSource(filt_data1)\n",
    "filt_data2 = data[['dateRep','Ireland']].rename(columns={'Ireland':'cases'})\n",
    "src3 = ColumnDataSource(filt_data2)\n",
    "\n",
    "hover_tool = HoverTool(tooltips=[\n",
    "            ('Cases', '@cases'),\n",
    "            ('Date', '@dateRep')],\n",
    "            formatters={'dateRep': 'datetime'}\n",
    "        )\n",
    "\n",
    "p1 = figure(plot_width=600,plot_height=400,x_axis_type='datetime',\n",
    "           tools=[hover_tool],title='Sars-CoV-2 cases (ECDC)',y_range=Range1d(start=0, end=filt_data1.cases.max()+50))\n",
    "p1.line(x='dateRep',y='cases', source=src2, legend_label=\"country 1\", line_color='blue',\n",
    "        line_width=3,line_alpha=.8)\n",
    "#set the second y-axis and use that with our second line\n",
    "p1.extra_y_ranges = {\"y2\": Range1d(start=0, end=filt_data2.cases.max()+50)}\n",
    "p1.add_layout(LinearAxis(y_range_name=\"y2\"), 'right')\n",
    "p1.line(x='dateRep',y='cases', source=src3, legend_label=\"country 2\", line_color='orange',\n",
    "        line_width=3,line_alpha=.8,y_range_name=\"y2\")\n",
    "\n",
    "p1.yaxis[0].axis_label = 'China'\n",
    "p1.yaxis[1].axis_label = 'Ireland'\n",
    "p1.background_fill_color = \"whitesmoke\"\n",
    "p1.background_fill_alpha = 0.5\n",
    "p1.legend.location = \"top_left\"\n",
    "p1.xaxis.axis_label = 'Date'\n",
    "p1.xaxis.formatter=DatetimeTickFormatter(days=\"%d/%m\",\n",
    "months=\"%m/%d %H:%M\",\n",
    ")"
   ]
  },
  {
   "cell_type": "code",
   "execution_count": 82,
   "metadata": {},
   "outputs": [],
   "source": [
    "#this javascript snippet is the callback when either select is changed\n",
    "code=\"\"\"\n",
    "var c = cb_obj.value;\n",
    "ax.axis_label = c;\n",
    "var y = s1.data[c];\n",
    "s2.data['cases'] = y;\n",
    "y_range.start = 0;\n",
    "y_range.end = parseInt(y[y.length - 1]+50);\n",
    "s2.change.emit();\n",
    "\"\"\"\n",
    "callback1 = CustomJS(args=dict(s1=source,s2=src2,y_range=p1.y_range,ax=p1.yaxis[0]), code=code)\n",
    "callback2 = CustomJS(args=dict(s1=source,s2=src3,y_range=p1.extra_y_ranges['y2'],ax=p1.yaxis[1]), code=code)\n",
    "names = list(df.countriesAndTerritories.unique() )\n",
    "names_sub=['China','United_Kingdom','United_States_of_America','Spain','Italy',\n",
    "           'Germany','France','Iran','Australia','Ireland','Sweden','Belgium','Turkey','India']\n",
    "select1 = Select(title=\"Country 1:\", value='China', options=names_sub)\n",
    "select1.js_on_change('value', callback1)\n",
    "select2 = Select(title=\"Country 2:\", value='Ireland', options=names)\n",
    "select2.js_on_change('value', callback2)\n",
    "btn = Button(label='Update')\n",
    "\n",
    "layout = column(row(select1,select2), row(p1))\n",
    "show(layout)"
   ]
  },
  {
   "cell_type": "code",
   "execution_count": null,
   "metadata": {},
   "outputs": [],
   "source": []
  }
 ],
 "metadata": {
  "kernelspec": {
   "display_name": "Python 3",
   "language": "python",
   "name": "python3"
  },
  "language_info": {
   "codemirror_mode": {
    "name": "ipython",
    "version": 3
   },
   "file_extension": ".py",
   "mimetype": "text/x-python",
   "name": "python",
   "nbconvert_exporter": "python",
   "pygments_lexer": "ipython3",
   "version": "3.8.5"
  }
 },
 "nbformat": 4,
 "nbformat_minor": 4
}
