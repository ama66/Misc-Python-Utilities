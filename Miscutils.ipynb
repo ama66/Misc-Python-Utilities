{
 "cells": [
  {
   "cell_type": "code",
   "execution_count": null,
   "metadata": {},
   "outputs": [],
   "source": [
    "#from collections import defaultdict\n",
    "import collections\n",
    "import numpy as np\n",
    "import scipy.sparse as sps\n",
    "import matplotlib.pyplot as plt"
   ]
  },
  {
   "cell_type": "code",
   "execution_count": null,
   "metadata": {},
   "outputs": [],
   "source": [
    "words = \"apple banana apple strawberry banana lemon banana lemon.\"\n",
    "\n",
    "d = collections.defaultdict(int)\n",
    "\n",
    "d\n",
    "\n",
    "for word in words.split():\n",
    "    d[word] += 1\n",
    "    \n",
    "d.keys()"
   ]
  },
  {
   "cell_type": "code",
   "execution_count": null,
   "metadata": {},
   "outputs": [],
   "source": [
    "words.split()\n",
    "\n",
    "dict(collections.Counter(words.split()))"
   ]
  },
  {
   "cell_type": "code",
   "execution_count": null,
   "metadata": {},
   "outputs": [],
   "source": [
    "#create empty CSC matrix:\n",
    "mtx = sps.csc_matrix((3, 4), dtype=np.int8)\n",
    "\n",
    "mtx.todense()\n",
    "\n",
    "# create using (data, ij) tuple:\n",
    "row = np.array([0, 0, 1, 2, 2, 2])\n",
    "col = np.array([0, 2, 2, 0, 1, 2])\n",
    "data = np.array([1, 2, 3, 4, 5, 6])\n",
    "mtx = sps.csc_matrix((data, (row, col)), shape=(3, 3))\n",
    "\n",
    "mtx.todense()"
   ]
  },
  {
   "cell_type": "code",
   "execution_count": null,
   "metadata": {},
   "outputs": [],
   "source": [
    "# Any order is fine\n",
    "# create using (data, ij) tuple:\n",
    "row = np.array([0, 0, 1, 2, 2, 2])\n",
    "col = np.array([0, 2, 2, 2, 1, 0])\n",
    "data = np.array([1, 2, 3, 6, 5, 4])\n",
    "mtx = sps.csc_matrix((data, (row, col)), shape=(3, 3))\n",
    "mtx.todense()"
   ]
  },
  {
   "cell_type": "code",
   "execution_count": null,
   "metadata": {},
   "outputs": [],
   "source": [
    "#Compressed Sparse Column Format (CSC)\n",
    "#efficient column slicing, column-oriented operations slow row slicing, expensive changes to the sparsity structure\n",
    "#use: actual computations (most linear solvers support this format)\n",
    "\n",
    "# create using (data, indices, indptr) tuple:\n",
    "# nonzero values of the i-th column are data[indptr[i]:indptr[i+1]] \n",
    "# with row indices indices[indptr[i]:indptr[i+1]]\n",
    "data = np.array([1, 4, 5, 2, 3, 6])\n",
    "indices = np.array([0, 2, 2, 0, 1, 2])\n",
    "indptr = np.array([0, 2, 3, 6])  # first column non-zero values are data[0:2] so two numbers  1, 4 \n",
    "## those two numbers correspond to rows indices[0:2] so row 0 and row 2 \n",
    "## whereas second column non-zero data are data[2:3] so just one number corresponding to row indices[2:3] so row 2 \n",
    "## third colum data[3:6] so three numbers 2,3,6 at rows indices[3:6] so rows 0,1,2 \n",
    "mtx = sps.csc_matrix((data, indices, indptr), shape=(3, 3))\n",
    "mtx.todense()"
   ]
  },
  {
   "cell_type": "code",
   "execution_count": null,
   "metadata": {},
   "outputs": [],
   "source": [
    "#Compressed Sparse Row Format (CSR)\n",
    "#indices is array of column indices\n",
    "\n",
    "#data is array of corresponding nonzero values\n",
    "\n",
    "#indptr points to row starts in indices and data\n",
    "\n",
    "#length is n_row + 1, last item = number of values = length of both indices and data\n",
    "\n",
    "#nonzero values of the i-th row are data[indptr[i]:indptr[i+1]] with column indices indices[indptr[i]:indptr[i+1]]\n",
    "\n",
    "#item (i, j) can be accessed as data[indptr[i]+k], where k is position of j in indices[indptr[i]:indptr[i+1]]\n",
    "\n",
    "# you can specify coo ind\n",
    "row = np.array([0, 0, 1, 2, 2, 2])\n",
    "col = np.array([0, 2, 2, 0, 1, 2])\n",
    "data = np.array([1, 2, 3, 4, 5, 6])\n",
    "mtx = sps.csr_matrix((data, (row, col)), shape=(3, 3))\n",
    "mtx\n",
    "\n",
    "mtx.todense()\n",
    "\n",
    "mtx.data\n",
    "\n",
    "mtx.indices\n",
    "\n",
    "mtx.indptr\n",
    "\n",
    "data = np.array([1, 2, 3, 4, 5, 6])\n",
    "indices = np.array([0, 2, 2, 0, 1, 2])\n",
    "indptr = np.array([0, 2, 3, 6])\n",
    "mtx = sps.csr_matrix((data, indices, indptr), shape=(3, 3))\n",
    "\n",
    "\n",
    " mtx.todense()\n",
    " "
   ]
  },
  {
   "cell_type": "code",
   "execution_count": null,
   "metadata": {},
   "outputs": [],
   "source": [
    "# Scipy allows you to perform operations on sparse matrices but it may not be efficient\n",
    "# except if sparsity level is > 80% or so depending on the algorithm\n",
    "\n",
    "import scipy.sparse as sp\n",
    "values = [2, 4, 1, 3, 1, 1]\n",
    "row_indices = [1, 3, 2, 0, 3, 1]\n",
    "column_indices = [0, 0, 1, 2, 2, 3]\n",
    "A = sp.coo_matrix((values, (row_indices, column_indices)), shape=(4,4))\n",
    "print(A.todense())\n",
    "\n",
    "print(A.data)\n",
    "print(A.row)\n",
    "print(A.col)\n",
    "\n",
    "A=A.todense()\n",
    "A\n",
    "\n",
    "A=np.asarray(A)\n",
    "\n",
    "B = sp.csc_matrix(A)\n",
    "\n",
    "B\n",
    "\n",
    "B.todense()\n",
    "\n",
    "#\n",
    "\n",
    "\n",
    "##99.9% sparsity array A \n",
    "A = sp.rand(1000,1000, 0.001) + sp.eye(1000)\n",
    "B = np.asarray(A.todense())\n",
    "x = np.random.randn(1000)\n",
    "%timeit A @ x\n",
    "%timeit B @ x"
   ]
  },
  {
   "cell_type": "code",
   "execution_count": null,
   "metadata": {},
   "outputs": [],
   "source": [
    "A\n",
    "B\n",
    "A = sp.rand(10,10,0.1)\n",
    "A.todense() ## 10 nonzero elements out of 100\n",
    "\n",
    "A = sp.rand(10,10,0.05)\n",
    "A.todense()  # 5 out of 100 are non-zero\n",
    "\n",
    "## anything above 10% density will slow things down! \n",
    "A = sp.rand(1000,1000, 0.1) + sp.eye(1000)\n",
    "B = np.asarray(A.todense())\n",
    "x = np.random.randn(1000)\n",
    "%timeit A @ x\n",
    "%timeit B @ x"
   ]
  },
  {
   "cell_type": "code",
   "execution_count": null,
   "metadata": {},
   "outputs": [],
   "source": [
    "import scipy.sparse.linalg as spla\n",
    "A = A.tocsc()\n",
    "%timeit spla.spsolve(A,x)     # only works with CSC or CSR format\n",
    "%timeit np.linalg.solve(B,x)\n",
    "\n",
    "\n",
    "A = sp.rand(1000,1000, 0.001) + sp.eye(1000)\n",
    "A = A.tocsc()\n",
    "B = np.asarray(A.todense())\n",
    "x = np.random.randn(1000)\n",
    "%timeit A @ x\n",
    "%timeit B @ x\n",
    "%timeit spla.spsolve(A,x)     # only works with CSC or CSR format\n",
    "%timeit np.linalg.solve(B,x)"
   ]
  },
  {
   "cell_type": "code",
   "execution_count": null,
   "metadata": {},
   "outputs": [],
   "source": []
  }
 ],
 "metadata": {
  "kernelspec": {
   "display_name": "Python 3",
   "language": "python",
   "name": "python3"
  },
  "language_info": {
   "codemirror_mode": {
    "name": "ipython",
    "version": 3
   },
   "file_extension": ".py",
   "mimetype": "text/x-python",
   "name": "python",
   "nbconvert_exporter": "python",
   "pygments_lexer": "ipython3",
   "version": "3.6.7"
  }
 },
 "nbformat": 4,
 "nbformat_minor": 2
}
